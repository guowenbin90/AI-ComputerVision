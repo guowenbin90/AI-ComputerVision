{
 "cells": [
  {
   "cell_type": "markdown",
   "metadata": {},
   "source": [
    "# 1D Kalman Filter\n",
    "\n",
    "Now, you're ready to implement a 1D Kalman Filter by putting all these steps together. Let's take the case of a robot that moves through the world. As a robot moves through the world it locates itself by performing a cycle of:\n",
    "1. sensing and performing a measurement update and\n",
    "2. moving and performing a motion update\n",
    "\n",
    "You've programmed each of these steps individually, so now let's combine them in a cycle!\n",
    "\n",
    "After implementing this filter, you should see that you can go from a very uncertain location Gaussian to a more and more certain Gaussian, as pictured below. The code in this notebooks is really just a simplified version of the Kalman filter that runs in the Google self-driving car that is used to track surrounding vehicles and other objects.\n",
    "\n",
    "<img src='images/gaussian_updates.png' height=70% width=70% />\n",
    "\n",
    "---"
   ]
  },
  {
   "cell_type": "markdown",
   "metadata": {},
   "source": [
    "Below is our usual Gaussian equation and imports."
   ]
  },
  {
   "cell_type": "code",
   "execution_count": 1,
   "metadata": {},
   "outputs": [],
   "source": [
    "# import math functions\n",
    "from math import *\n",
    "import matplotlib.pyplot as plt\n",
    "import numpy as np\n",
    "\n",
    "# gaussian function\n",
    "def f(mu, sigma2, x):\n",
    "    ''' f takes in a mean and squared variance, and an input x\n",
    "       and returns the gaussian value.'''\n",
    "    coefficient = 1.0 / sqrt(2.0 * pi *sigma2)\n",
    "    exponential = exp(-0.5 * (x-mu) ** 2 / sigma2)\n",
    "    return coefficient * exponential\n",
    " "
   ]
  },
  {
   "cell_type": "markdown",
   "metadata": {},
   "source": [
    "You've also been given the complete `update` code that performs a parameter update when an initial belief and new measurement information are merged. And the complete `predict` code that performs an update to a Gasuuain after a motion is incorporated."
   ]
  },
  {
   "cell_type": "code",
   "execution_count": 2,
   "metadata": {},
   "outputs": [],
   "source": [
    "# the update function\n",
    "def update(mean1, var1, mean2, var2):\n",
    "    ''' This function takes in two means and two squared variance terms,\n",
    "        and returns updated gaussian parameters.'''\n",
    "    # Calculate the new parameters\n",
    "    new_mean = (var2*mean1 + var1*mean2)/(var2+var1)\n",
    "    new_var = 1/(1/var2 + 1/var1)\n",
    "    \n",
    "    return [new_mean, new_var]\n",
    "\n",
    "\n",
    "# the motion update/predict function\n",
    "def predict(mean1, var1, mean2, var2):\n",
    "    ''' This function takes in two means and two squared variance terms,\n",
    "        and returns updated gaussian parameters, after motion.'''\n",
    "    # Calculate the new parameters\n",
    "    new_mean = mean1 + mean2\n",
    "    new_var = var1 + var2\n",
    "    \n",
    "    return [new_mean, new_var]"
   ]
  },
  {
   "cell_type": "markdown",
   "metadata": {},
   "source": [
    "### QUIZ: For the given measurements and motions, write complete 1D Kalman filter code that loops through all of these in order.\n",
    "\n",
    "Your complete code should look at sensor measurements then motions in that sequence until all updates are done!\n",
    "\n",
    "### Initial Uncertainty\n",
    "\n",
    "You'll see that you are given initial parameters below, and this includes and nitial location estimation, `mu` and squared variance, `sig`. Note that the initial estimate is set to the location 0, and the variance is extremely large; this is a state of high confusion much like the *uniform* distribution we used in the histogram filter. There are also values given for the squared variance associated with the sensor measurements and the motion, since neither of those readings are perfect, either.\n",
    "\n",
    "You should see that even though the initial estimate for location (the initial `mu`) is far from the first measurement, it should catch up fairly quickly as you cycle through measurements and motions."
   ]
  },
  {
   "cell_type": "code",
   "execution_count": 5,
   "metadata": {},
   "outputs": [
    {
     "name": "stdout",
     "output_type": "stream",
     "text": [
      "Update:[4.999500049995,0.9999000099990001]\n",
      "Predict:[5.999500049995,2.999900009999]\n",
      "Update:[5.999875009374297,0.7499937504687149]\n",
      "Predict:[6.999875009374297,2.7499937504687146]\n",
      "Update:[6.999947372298884,1.1578936288905026]\n",
      "Predict:[8.999947372298884,3.157893628890503]\n",
      "Update:[8.999987342701422,0.7594936067984882]\n",
      "Predict:[9.999987342701422,2.7594936067984883]\n",
      "Update:[9.999996633243756,0.7340067294723822]\n",
      "Predict:[10.999996633243756,2.734006729472382]\n"
     ]
    }
   ],
   "source": [
    "# measurements for mu and motions, U\n",
    "measurements = [5., 6., 7., 9., 10.]\n",
    "motions = [1., 1., 2., 1., 1.]\n",
    "\n",
    "# initial parameters\n",
    "measurement_sig = 4.\n",
    "motion_sig = 2.\n",
    "mu = 0.\n",
    "sig = 10000.\n",
    "\n",
    "## TODO: Loop through all measurements/motions\n",
    "## Print out and display the resulting Gaussian \n",
    "for i in range(len(measurements)):\n",
    "    mu, sig = update(mu,sig, measurements[i],motions[i])\n",
    "    print('Update:[{},{}]'.format(mu,sig))\n",
    "    mu, sig = predict(mu,sig, motions[i],motion_sig)\n",
    "    print('Predict:[{},{}]'.format(mu,sig))\n",
    "# your code here\n"
   ]
  },
  {
   "cell_type": "code",
   "execution_count": 6,
   "metadata": {},
   "outputs": [
    {
     "data": {
      "text/plain": [
       "[<matplotlib.lines.Line2D at 0x7fd7fa1bba90>]"
      ]
     },
     "execution_count": 6,
     "metadata": {},
     "output_type": "execute_result"
    },
    {
     "data": {
      "image/png": "[encoded data removed]",
      "text/plain": [
       "<matplotlib.figure.Figure at 0x7fd7fc2c99b0>"
      ]
     },
     "metadata": {
      "needs_background": "light"
     },
     "output_type": "display_data"
    }
   ],
   "source": [
    "## Print out and display the final, resulting Gaussian \n",
    "# set the parameters equal to the output of the Kalman filter result\n",
    "mu = mu\n",
    "sigma2 = sig\n",
    "\n",
    "# define a range of x values\n",
    "x_axis = np.arange(-20, 20, 0.1)\n",
    "\n",
    "# create a corresponding list of gaussian values\n",
    "g = []\n",
    "for x in x_axis:\n",
    "    g.append(f(mu, sigma2, x))\n",
    "\n",
    "# plot the result \n",
    "plt.plot(x_axis, g)"
   ]
  },
  {
   "cell_type": "markdown",
   "metadata": {},
   "source": [
    "### Plot a Gaussian\n",
    "\n",
    "Plot a Gaussian by looping through a range of x values and creating a resulting list of Gaussian values, `g`, as shown below. You're encouraged to see what happens if you change the values of `mu` and `sigma2`."
   ]
  },
  {
   "cell_type": "code",
   "execution_count": 7,
   "metadata": {},
   "outputs": [
    {
     "data": {
      "text/plain": [
       "[<matplotlib.lines.Line2D at 0x7fd7fa1a4d68>]"
      ]
     },
     "execution_count": 7,
     "metadata": {},
     "output_type": "execute_result"
    },
    {
     "data": {
      "image/png": "[encoded data removed]",
      "text/plain": [
       "<matplotlib.figure.Figure at 0x7fd7fa23c358>"
      ]
     },
     "metadata": {
      "needs_background": "light"
     },
     "output_type": "display_data"
    }
   ],
   "source": [
    "# display the *initial* gaussian over a range of x values\n",
    "# define the parameters\n",
    "mu = 0\n",
    "sigma2 = 10000\n",
    "\n",
    "# define a range of x values\n",
    "x_axis = np.arange(-20, 20, 0.1)\n",
    "\n",
    "# create a corresponding list of gaussian values\n",
    "g = []\n",
    "for x in x_axis:\n",
    "    g.append(f(mu, sigma2, x))\n",
    "\n",
    "# plot the result \n",
    "plt.plot(x_axis, g)"
   ]
  },
  {
   "cell_type": "code",
   "execution_count": null,
   "metadata": {},
   "outputs": [],
   "source": []
  }
 ],
 "metadata": {
  "kernelspec": {
   "display_name": "Python 3",
   "language": "python",
   "name": "python3"
  },
  "language_info": {
   "codemirror_mode": {
    "name": "ipython",
    "version": 3
   },
   "file_extension": ".py",
   "mimetype": "text/x-python",
   "name": "python",
   "nbconvert_exporter": "python",
   "pygments_lexer": "ipython3",
   "version": "3.6.3"
  }
 },
 "nbformat": 4,
 "nbformat_minor": 2
}
